{
 "cells": [
  {
   "cell_type": "markdown",
   "metadata": {},
   "source": [
    "# <img style=\"float: left; padding-right: 10px; width: 45px\" src=\"https://github.com/Harvard-IACS/2018-CS109A/blob/master/content/styles/iacs.png?raw=true\"> CS109A Introduction to Data Science \n",
    "\n",
    "## Lecture 14 (PCA and High Dimensionality)\n",
    "\n",
    "**Harvard University**<br>\n",
    "**Fall 2019**<br>\n",
    "**Instructors:** Pavlos Protopapas, Kevin Rader, and Chris Tanner<br>\n",
    "\n",
    "\n",
    "---"
   ]
  },
  {
   "cell_type": "code",
   "execution_count": null,
   "metadata": {},
   "outputs": [],
   "source": [
    "import pandas as pd\n",
    "import sys\n",
    "import numpy as np\n",
    "import scipy as sp\n",
    "import sklearn as sk\n",
    "import matplotlib.pyplot as plt\n",
    "\n",
    "#     import statsmodels.api as sm\n",
    "#     from statsmodels.tools import add_constant\n",
    "#     from statsmodels.regression.linear_model import RegressionResults\n",
    "#     import seaborn as sns\n",
    "#     from sklearn.preprocessing import MinMaxScaler\n",
    "#     from sklearn.model_selection import KFold\n",
    "#     from sklearn.linear_model import LinearRegression\n",
    "#     from sklearn.linear_model import Ridge\n",
    "#     from sklearn.linear_model import Lasso\n",
    "#     from sklearn.preprocessing import PolynomialFeatures\n",
    "#     from sklearn.neighbors import KNeighborsRegressor\n",
    "\n",
    "from sklearn.linear_model import LogisticRegression\n",
    "from sklearn.decomposition import PCA\n",
    "# sns.set(style=\"ticks\")\n",
    "# %matplotlib inline"
   ]
  },
  {
   "cell_type": "code",
   "execution_count": null,
   "metadata": {},
   "outputs": [],
   "source": [
    "heart_df = pd.read_csv('../data/Heart.csv')"
   ]
  },
  {
   "cell_type": "code",
   "execution_count": null,
   "metadata": {},
   "outputs": [],
   "source": [
    "print(heart_df.shape)\n",
    "heart_df.head()"
   ]
  },
  {
   "cell_type": "code",
   "execution_count": null,
   "metadata": {},
   "outputs": [],
   "source": [
    "heart_df.describe()"
   ]
  },
  {
   "cell_type": "code",
   "execution_count": null,
   "metadata": {},
   "outputs": [],
   "source": [
    "# For pedagogical purposes, let's simplify our lives and use just 4 predictors\n",
    "X = heart_df[['Age','RestBP','Chol','MaxHR']]\n",
    "y = 1*(heart_df['AHD']=='Yes')"
   ]
  },
  {
   "cell_type": "code",
   "execution_count": null,
   "metadata": {},
   "outputs": [],
   "source": [
    "#fit the 'full' model on the 4 predictors. and print out the coefficients\n",
    "logit_full = LogisticRegression(C=1000000,solver=\"lbfgs\").fit(X,y)\n",
    "\n",
    "beta = logit_full.coef_[0]\n",
    "\n",
    "print(beta)"
   ]
  },
  {
   "cell_type": "code",
   "execution_count": null,
   "metadata": {},
   "outputs": [],
   "source": [
    "# investigating what happens when two identical predictors are used\n",
    "\n",
    "logit1 = LogisticRegression(C=1000000,solver=\"lbfgs\").fit(heart_df[['Age']],y)\n",
    "logit2 = LogisticRegression(C=1000000,solver=\"lbfgs\").fit(heart_df[['Age','Age']],y)\n",
    "\n",
    "print(\"The coef estimate for Age (when in the model once):\",logit1.coef_)\n",
    "print(\"The coef estimates for Age (when in the model twice):\",logit2.coef_)"
   ]
  },
  {
   "cell_type": "code",
   "execution_count": null,
   "metadata": {},
   "outputs": [],
   "source": [
    "X = heart_df[['Age','RestBP','Chol','MaxHR']]\n",
    "\n",
    "# create/fit the 'full' pca transformation\n",
    "pca = PCA().fit(X)\n",
    "\n",
    "# apply the pca transformation to the full predictor set\n",
    "pcaX = pca.transform(X)\n",
    "\n",
    "# convert to a data frame\n",
    "pcaX_df = pd.DataFrame(pcaX, columns=[['PCA1' , 'PCA2', 'PCA3', 'PCA4']])\n",
    "\n",
    "# here are the weighting (eigen-vectors) of the variables (first 2 at least)\n",
    "print(\"First PCA Component (w1):\",pca.components_[0,:])\n",
    "print(\"Second PCA Component (w2):\",pca.components_[1,:])\n",
    "\n",
    "# here is the variance explained:\n",
    "print(\"Variance explained by each component:\",pca.explained_variance_ratio_)"
   ]
  },
  {
   "cell_type": "code",
   "execution_count": null,
   "metadata": {},
   "outputs": [],
   "source": [
    "# Plot the response over the first 2 PCA component vectors\n",
    "\n",
    "plt.scatter(pcaX_df['PCA1'][y==0],pcaX_df['PCA2'][y==0])\n",
    "plt.scatter(pcaX_df['PCA1'][y==1],pcaX_df['PCA2'][y==1])\n",
    "\n",
    "plt.legend([\"AHD = No\",\"AHD = Yes\"])\n",
    "plt.xlabel(\"First PCA Component Vector (Z1)\")\n",
    "plt.ylabel(\"Second PCA Component Vector (Z2)\");\n"
   ]
  },
  {
   "cell_type": "code",
   "execution_count": null,
   "metadata": {},
   "outputs": [],
   "source": [
    "logit_pcr1 = LogisticRegression(C=1000000,solver=\"lbfgs\").fit(pcaX_df[['PCA1']],y)\n",
    "\n",
    "print(\"Intercept from simple PCR-Logistic:\",logit_pcr1.intercept_)\n",
    "print(\"'Slope' from simple PCR-Logistic:\", logit_pcr1.coef_)\n",
    "\n",
    "print(\"First PCA Component (w1):\",pca.components_[0,:])\n"
   ]
  },
  {
   "cell_type": "code",
   "execution_count": null,
   "metadata": {},
   "outputs": [],
   "source": [
    "# Fit the other 3 PCRs on the rest of the 4 predictors\n",
    "\n",
    "logit_pcr2 = LogisticRegression(C=1000000,solver=\"lbfgs\").fit(pcaX_df[['PCA1','PCA2']],y)\n",
    "logit_pcr3 = LogisticRegression(C=1000000,solver=\"lbfgs\").fit(pcaX_df[['PCA1','PCA2','PCA3']],y)\n",
    "logit_pcr4 = LogisticRegression(C=1000000,solver=\"lbfgs\").fit(pcaX_df[['PCA1','PCA2','PCA3','PCA4']],y)\n",
    "\n",
    "pcr1=(logit_pcr1.coef_*np.transpose(pca.components_[0:1,:])).sum(axis=1)\n",
    "pcr2=(logit_pcr2.coef_*np.transpose(pca.components_[0:2,:])).sum(axis=1)\n",
    "pcr3=(logit_pcr3.coef_*np.transpose(pca.components_[0:3,:])).sum(axis=1)\n",
    "pcr4=(logit_pcr4.coef_*np.transpose(pca.components_[0:4,:])).sum(axis=1)\n",
    "\n",
    "print(pcr1)\n",
    "print(pcr2)\n",
    "print(pcr3)\n",
    "print(pcr4)\n",
    "\n",
    "results = np.vstack((pcr1,pcr2,pcr3,pcr4,beta))"
   ]
  },
  {
   "cell_type": "code",
   "execution_count": null,
   "metadata": {},
   "outputs": [],
   "source": [
    "plt.plot(['PCR1' , 'PCR2', 'PCR3', 'PCR4', 'Logistic'],results)\n",
    "\n",
    "plt.ylabel(\"Back-calculated Beta Coefficients\");\n",
    "\n",
    "plt.legend(X.columns);"
   ]
  },
  {
   "cell_type": "code",
   "execution_count": null,
   "metadata": {},
   "outputs": [],
   "source": [
    "scaler = sk.preprocessing.StandardScaler()\n",
    "scaler.fit(X)\n",
    "Z = scaler.transform(X)\n",
    "pca = PCA(n_components=4).fit(Z)\n",
    "pcaZ = pca.transform(Z)\n",
    "pcaZ_df = pd.DataFrame(pcaZ, columns=[['PCA1' , 'PCA2', 'PCA3', 'PCA4']])\n",
    "\n",
    "print(\"First PCA Component (w1):\",pca.components_[0,:])\n",
    "print(\"Second PCA Component (w2):\",pca.components_[1,:])"
   ]
  },
  {
   "cell_type": "code",
   "execution_count": null,
   "metadata": {},
   "outputs": [],
   "source": [
    "#fit the 'full' model on the 4 predictors. and print out the coefficients\n",
    "logit_full = LogisticRegression(C=1000000,solver=\"lbfgs\").fit(Z,y)\n",
    "\n",
    "\n",
    "betaZ = logit_full.coef_[0]\n",
    "\n",
    "print(\"Logistic coef. on standardized predictors:\",betaZ)"
   ]
  },
  {
   "cell_type": "code",
   "execution_count": null,
   "metadata": {},
   "outputs": [],
   "source": [
    "# Fit the PCR\n",
    "logit_pcr1Z = LogisticRegression(C=1000000,solver=\"lbfgs\").fit(pcaZ_df[['PCA1']],y)\n",
    "logit_pcr2Z = LogisticRegression(C=1000000,solver=\"lbfgs\").fit(pcaZ_df[['PCA1','PCA2']],y)\n",
    "logit_pcr3Z = LogisticRegression(C=1000000,solver=\"lbfgs\").fit(pcaZ_df[['PCA1','PCA2','PCA3']],y)\n",
    "logit_pcr4Z = LogisticRegression(C=1000000,solver=\"lbfgs\").fit(pcaZ_df[['PCA1','PCA2','PCA3','PCA4']],y)\n",
    "\n",
    "pcr1Z=(logit_pcr1Z.coef_*np.transpose(pca.components_[0:1,:])).sum(axis=1)\n",
    "pcr2Z=(logit_pcr2Z.coef_*np.transpose(pca.components_[0:2,:])).sum(axis=1)\n",
    "pcr3Z=(logit_pcr3Z.coef_*np.transpose(pca.components_[0:3,:])).sum(axis=1)\n",
    "pcr4Z=(logit_pcr4Z.coef_*np.transpose(pca.components_[0:4,:])).sum(axis=1)\n",
    "\n",
    "resultsZ = np.vstack((pcr1Z,pcr2Z,pcr3Z,pcr4Z,betaZ))\n",
    "print(resultsZ)\n",
    "\n",
    "plt.plot(['PCR1-Z' , 'PCR2-Z', 'PCR3-Z', 'PCR4-Z', 'Logistic'],resultsZ)\n",
    "\n",
    "plt.ylabel(\"Back-calculated Beta Coefficients\");\n",
    "\n",
    "plt.legend(X.columns);"
   ]
  },
  {
   "cell_type": "markdown",
   "metadata": {},
   "source": [
    "---"
   ]
  }
 ],
 "metadata": {
  "anaconda-cloud": {},
  "kernelspec": {
   "display_name": "Python 3",
   "language": "python",
   "name": "python3"
  },
  "language_info": {
   "codemirror_mode": {
    "name": "ipython",
    "version": 3
   },
   "file_extension": ".py",
   "mimetype": "text/x-python",
   "name": "python",
   "nbconvert_exporter": "python",
   "pygments_lexer": "ipython3",
   "version": "3.7.3"
  }
 },
 "nbformat": 4,
 "nbformat_minor": 1
}
