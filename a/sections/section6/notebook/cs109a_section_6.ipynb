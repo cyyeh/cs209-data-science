{
 "cells": [
  {
   "cell_type": "markdown",
   "metadata": {},
   "source": [
    "# <img style=\"float: left; padding-right: 10px; width: 45px\" src=\"https://raw.githubusercontent.com/Harvard-IACS/2018-CS109A/master/content/styles/iacs.png\"> CS109A Introduction to Data Science \n",
    "\n",
    "## Standard Section 6: PCA and Logistic Regression\n",
    "\n",
    "**Harvard University**<br/>\n",
    "**Fall 2019**<br/>\n",
    "**Instructors**: Pavlos Protopapas, Kevin Rader, and Chris Tanner<br/>\n",
    "**Section Leaders**: Marios Mattheakis, Abhimanyu (Abhi) Vasishth, Robbert (Rob) Struyven<br/>\n",
    "\n",
    "<hr style='height:2px'>"
   ]
  },
  {
   "cell_type": "code",
   "execution_count": null,
   "metadata": {},
   "outputs": [],
   "source": [
    "#RUN THIS CELL \n",
    "import requests\n",
    "from IPython.core.display import HTML\n",
    "styles = requests.get(\"http://raw.githubusercontent.com/Harvard-IACS/2018-CS109A/master/content/styles/cs109.css\").text\n",
    "HTML(styles)"
   ]
  },
  {
   "cell_type": "markdown",
   "metadata": {},
   "source": [
    "For this section, our goal is to get you familiarized with Dimensionality Reduction using Principal Components Analysis (PCA) and to recap Logistic Regression from the last homework. This [medium article](https://towardsdatascience.com/pca-using-python-scikit-learn-e653f8989e60) was referenced extensively while creating this notebook.\n",
    "\n",
    "Specifically, we will:\n",
    "\n",
    "- Understand how to define the terms **big data** and **high-dimensionality** and see the motivation for PCA\n",
    "- Learn what PCA is\n",
    "- Use PCA in order to **visualize** a high-dimensional problem in 2-dimensions\n",
    "- Learn about the sklearn PCA library and [its nuances](https://scikit-learn.org/stable/modules/generated/sklearn.decomposition.PCA.html)\n",
    "- Get familiar with the Linear Algebra of PCA\n",
    "- Meet the MNIST handwritten digit dataset (and hopefully stay friends for a while)\n",
    "- Use PCA in order to **improve model training time** and understand the **speed-accuracy trade-off**\n",
    "- Discuss when to use PCA and when not to use it\n",
    "\n",
    "---"
   ]
  },
  {
   "cell_type": "markdown",
   "metadata": {},
   "source": [
    "<img src=\"../fig/meme.png\" width=\"400\">\n",
    "\n",
    "---"
   ]
  },
  {
   "cell_type": "code",
   "execution_count": null,
   "metadata": {},
   "outputs": [],
   "source": [
    "# Data and stats packages\n",
    "import numpy as np\n",
    "import pandas as pd\n",
    "\n",
    "# Visualization packages\n",
    "%matplotlib inline\n",
    "import matplotlib.pyplot as plt\n",
    "import seaborn as sns\n",
    "sns.set()\n",
    "\n",
    "# Other packages\n",
    "pd.set_option('display.max_columns', 50)\n",
    "import warnings\n",
    "warnings.filterwarnings(\"ignore\")"
   ]
  },
  {
   "cell_type": "markdown",
   "metadata": {},
   "source": [
    "# Motivation"
   ]
  },
  {
   "cell_type": "markdown",
   "metadata": {},
   "source": [
    "Principal Components Analysis helps us deal with high-dimensionality in big-data. \n",
    "\n",
    "But first...\n",
    "\n",
    "<img src=\"../fig/bigdata.png\" width=\"600\">\n",
    "\n",
    "**High-dimensionality** is the case when p is large i.e. there are a lot of predictors. This is sometimes a problem because:\n",
    "\n",
    "1. Our models may be overfit\n",
    "2. There may be multi-collinearity\n",
    "3. Matrices may not be invertible (in the case of OLS)\n",
    "\n",
    "**Our challenge**: is to represent these p dimensions by a smaller number (m) dimensions without losing too much information. Then, we can fit a model using these m predictors, which addresses the three problems listed above. Here's where **PCA** comes into play."
   ]
  },
  {
   "cell_type": "markdown",
   "metadata": {},
   "source": [
    "# What is Principal Components Analysis (PCA)?\n",
    "\n",
    "## A Framework For Dimensionality Reduction"
   ]
  },
  {
   "cell_type": "markdown",
   "metadata": {},
   "source": [
    "We said that one way to reduce the dimensions of the feature space is to create a new, smaller set of predictors by taking linear combinations of the original predictors. Our original model (let's say it is a Linear Regression Model) looks like this:\n",
    "\n",
    "$$\n",
    "Y = \\beta_0 + \\beta_1 X_1 + \\beta_2 X_2 + \\dots + \\beta_p X_p + \\epsilon\n",
    "$$\n",
    "\n",
    "We choose $Z_1$, $Z_2$,$\\dots$, $Z_m$, where $m < p$ and where each $Z_i$ is a linear combination of\n",
    "the original p predictors, $X_1$ to $X_p$. We can say that:\n",
    "\n",
    "$$\n",
    "Z_i = \\sum_{j=1}^{p} c_{ij} X_i\n",
    "$$\n",
    "\n",
    "for fixed constants $c_{ij}$  (PCA can determines them).  As an example, we could say that: \n",
    "\n",
    "$$\n",
    "Z_1 = 3.3 X_1 + 4 X_2 + 0 X_3 + \\dots + 1.2 X_p\n",
    "$$\n",
    "\n",
    "In the above equation, we see that $Z_1$ is a linear combination of the original predictors. Then we can build a linear regression model using the new predictors as follows:\n",
    "\n",
    "$$\n",
    "Y = \\theta_0 + \\theta_1 Z_1 + \\theta_2 Z_2 + \\dots + \\theta_m Z_m + \\epsilon\n",
    "$$\n",
    "\n",
    "Notice that this model has a smaller number (m+1 < p+1) of parameters. Each $Z_i$ is called **PRINCIPAL COMPONENT**. The principcal components consist an $m$-dimensional **orthonormal** system of coordinates.\n",
    "\n",
    "PCA is a method to identify a new set of predictors, as linear combinations of the original ones, that captures the 'maximum amount' of variance  in the observed data. This is the basic assumption in the PCA.\n",
    "\n",
    "<img src=\"../fig/pca.png\" width=\"400\">\n",
    "\n",
    "We see that the \"best line\" is the one where there is maximal variance along the line. Source [here](https://stats.stackexchange.com/questions/2691/making-sense-of-principal-component-analysis-eigenvectors-eigenvalues/140579).\n",
    "\n",
    "<img src=\"../fig/pca.gif\" width=\"1000\">\n",
    "\n",
    "In principle, we could explore all the rotations, that is, rotating our coordinate system under all the angles, and find which rotation yields the maximum variance or the smallest covariance. However, when the dimensionality (p) is large this is very time consuming and inefficient technique. In that case we may use PCA which is systematic way to find the best rotation or the best coordinate system. \n",
    "PCA is a mathematical method based on linear algebra, for more details and rigorous formulation see the notes in the advanced section for PCA.\n"
   ]
  },
  {
   "cell_type": "markdown",
   "metadata": {},
   "source": [
    "## Applications of PCA\n",
    "\n",
    "One major application of PCA is to address the issues we pointed out earlier (reduce the number of predictors).\n",
    "\n",
    "In addition, another major application of PCA is in **visualization**. Specifically, if we have an N-dimensional dataset, how do we visualize it? \n",
    "\n",
    "**One option**: \n",
    "\n",
    "<img src=\"../fig/matrix.png\" width=\"400\">\n",
    "\n",
    "**A more practical option**: use PCA to get the top 2-3 principal components and plot these components on 2-d or 3-d plots!"
   ]
  },
  {
   "cell_type": "markdown",
   "metadata": {},
   "source": [
    "# PCA for Visualization\n",
    "\n",
    "Data Source: [MTCars Dataset](https://gist.github.com/seankross/a412dfbd88b3db70b74b)\n",
    "\n",
    "Here are a few resources that use this dataset and apply PCA for visualization. This notebook references [this PCA tutorial in R](https://www.datacamp.com/community/tutorials/pca-analysis-r), [these lecture notes from CMU](http://www.stat.cmu.edu/~cshalizi/uADA/12/lectures/ch18.pdf), this [blog](https://www.analyticsvidhya.com/blog/2016/03/practical-guide-principal-component-analysis-python/), and [this blog](http://setosa.io/ev/principal-component-analysis/) which has some nice visualizations of PCA. "
   ]
  },
  {
   "cell_type": "markdown",
   "metadata": {},
   "source": [
    "### Loading in The Cars Dataset and carry out EDA\n",
    "\n",
    "This dataset consists of data on 32 models of car, taken from an American motoring magazine (1974 Motor Trend magazine). For each car, you have 11 features, expressed in varying units (US units), They are as follows ([source](https://www.datacamp.com/community/tutorials/pca-analysis-r)):\n",
    "\n",
    "- `mpg`: Fuel consumption (Miles per (US) gallon): more powerful and heavier cars tend to consume more fuel.\n",
    "- `cyl`: Number of cylinders: more powerful cars often have more cylinders\n",
    "- `disp`: Displacement (cu.in.): the combined volume of the engine's cylinders\n",
    "- `hp`: Gross horsepower: this is a measure of the power generated by the car\n",
    "- `drat`: Rear axle ratio: this describes how a turn of the drive shaft corresponds to a turn of the wheels. Higher values will decrease fuel efficiency.\n",
    "- `wt`: Weight (1000 lbs): pretty self-explanatory!\n",
    "- `qsec`: 1/4 mile time: the cars speed and acceleration\n",
    "- `vs`: Engine block: this denotes whether the vehicle's engine is shaped like a \"V\", or is a more common straight shape.\n",
    "- `am`: Transmission: this denotes whether the car's transmission is automatic (0) or manual (1).\n",
    "- `gear`: Number of forward gears: sports cars tend to have more gears.\n",
    "- `carb`: Number of carburetors: associated with more powerful engines\n",
    "\n",
    "Note that the units used vary and occupy different scales. \n",
    "\n",
    "**We are dropping the categorical variables `vs` and `am` before we progress any further, and only keeping in the continuous predictors**."
   ]
  },
  {
   "cell_type": "code",
   "execution_count": null,
   "metadata": {},
   "outputs": [],
   "source": [
    "cars_df = pd.read_csv('../data/mtcars.csv')\n",
    "cars_df = cars_df[cars_df.columns.difference(['am', 'vs'])]\n",
    "cars_df.head()"
   ]
  },
  {
   "cell_type": "code",
   "execution_count": null,
   "metadata": {},
   "outputs": [],
   "source": [
    "cars_df.describe()"
   ]
  },
  {
   "cell_type": "markdown",
   "metadata": {},
   "source": [
    "**Our task** is to try to visualize this data in a meaningful way. Obviously we can't make a 9-dimensional plot, but we can try to make several different plots using the `pairplot` function from seaborn."
   ]
  },
  {
   "cell_type": "code",
   "execution_count": null,
   "metadata": {},
   "outputs": [],
   "source": [
    "sns.pairplot(cars_df);"
   ]
  },
  {
   "cell_type": "markdown",
   "metadata": {},
   "source": [
    "But there are numerous variables and numerous more relationships between these variables. We can do better through PCA."
   ]
  },
  {
   "cell_type": "markdown",
   "metadata": {},
   "source": [
    "## A Better Visualization using PCA\n",
    "\n",
    "### Standardizing Variables\n",
    "Standardization is crucial for PCA. For more details check the notes from the advanced section."
   ]
  },
  {
   "cell_type": "code",
   "execution_count": null,
   "metadata": {},
   "outputs": [],
   "source": [
    "from sklearn.preprocessing import StandardScaler\n",
    "\n",
    "# separating the quantitative predictors from the model of the car (a string)\n",
    "model = cars_df['model']\n",
    "quant_df = cars_df[cars_df.columns.difference(['model'])]\n",
    "\n",
    "# Standardization\n",
    "quant_scaled = StandardScaler().fit_transform(quant_df)\n",
    "cars_df_scaled = pd.DataFrame(quant_scaled, columns=quant_df.columns)\n",
    "\n",
    "# bringing back the model name\n",
    "cars_df_scaled['model'] = cars_df['model']\n",
    "cars_df_scaled.describe()"
   ]
  },
  {
   "cell_type": "markdown",
   "metadata": {},
   "source": [
    "### Carrying out PCA\n",
    "\n",
    "[Sklearn PCA documentation](https://scikit-learn.org/stable/modules/generated/sklearn.decomposition.PCA.html)"
   ]
  },
  {
   "cell_type": "code",
   "execution_count": null,
   "metadata": {},
   "outputs": [],
   "source": [
    "from sklearn.decomposition import PCA\n",
    "\n",
    "# drop again the model predictor\n",
    "quant_df = cars_df_scaled[cars_df_scaled.columns.difference(['model'])]\n",
    "\n",
    "# fitting the PCA object onto our dataframe (excluding the model name column)\n",
    "pca = PCA().fit(quant_df)\n",
    "\n",
    "# transforming the dataframe\n",
    "quant_df_pca = pca.transform(quant_df)\n",
    "\n",
    "print(quant_df.shape)\n",
    "print(quant_df_pca.shape)"
   ]
  },
  {
   "cell_type": "markdown",
   "metadata": {},
   "source": [
    "Let us examine some of the attributes we obtain from PCA.\n",
    "\n",
    "1. `explained_variance_`: The amount of variance explained by each of the selected principal components.\n",
    "2. `explained_variance_ratio_`: Percentage of variance explained by each of the selected principal components. By default, if `n_components` is not set then all components are stored and the sum of the ratios is equal to 1.0."
   ]
  },
  {
   "cell_type": "code",
   "execution_count": null,
   "metadata": {},
   "outputs": [],
   "source": [
    "fig, ax = plt.subplots(ncols=2, figsize=(20,6))\n",
    "ax1, ax2 = ax.ravel()\n",
    "\n",
    "ratio = pca.explained_variance_ratio_\n",
    "ax1.bar(range(len(ratio)), ratio, color='purple', alpha=0.8)\n",
    "ax1.set_title('Explained Variance Ratio PCA', fontsize=20)\n",
    "ax1.set_xticks(range(len(ratio)))\n",
    "ax1.set_xticklabels(['PC {}'.format(i+1) for i in range(len(ratio))])\n",
    "ax1.set_ylabel('Explained Variance Ratio')\n",
    "\n",
    "# ratio[0]=0\n",
    "ratio = pca.explained_variance_ratio_\n",
    "ax2.plot(np.cumsum(ratio), 'o-')\n",
    "\n",
    "ax2.set_title('Cumulative Sum of Explained Variance Ratio PCA', fontsize=20)\n",
    "\n",
    "ax2.set_ylim(0,1.1)\n",
    "ax2.set_xticks(range(len(ratio)))\n",
    "ax2.set_xticklabels(['PC {}'.format(i+1) for i in range(len(ratio))])\n",
    "ax2.set_ylabel('Cumulative Sum of Explained Variance Ratio');"
   ]
  },
  {
   "cell_type": "markdown",
   "metadata": {},
   "source": [
    "We see that over 85% of the variance is explained by the first 2 principal components! "
   ]
  },
  {
   "cell_type": "markdown",
   "metadata": {},
   "source": [
    "3. `components_`: This represents the principal components i.e. directions of maximum variance in the data. The components are sorted by `explained_variance_`. \n",
    "\n",
    "Let us write the equation for all the principal components using our formulation of the principal components above:\n",
    "\n",
    "$$\n",
    "Z_i = \\sum_{j=1}^{p} w_{ij} X_i\n",
    "$$"
   ]
  },
  {
   "cell_type": "code",
   "execution_count": null,
   "metadata": {},
   "outputs": [],
   "source": [
    "for i, comp in enumerate(pca.components_):\n",
    "    expression = 'Z_{} = '.format(i+1)\n",
    "    for c, x in zip(comp, quant_df.columns):\n",
    "        if c < 0:\n",
    "            expression += str(np.round(c,2)) + '*' + x + ' '\n",
    "        else:\n",
    "            expression += '+' + str(np.round(c,2)) + '*' + x + ' '\n",
    "    print(expression + '\\n')"
   ]
  },
  {
   "cell_type": "markdown",
   "metadata": {},
   "source": [
    "Using the printed equations above, we can create vectors showing where each feature has a high value. Let us do this for the first 2 principal components (using $v$ to denote a vector): \n",
    "\n",
    "$$\n",
    "\\begin{aligned}\n",
    "v_{carb} = \\begin{pmatrix}-0.24 \\\\ 0.48 \\end{pmatrix}, \\;\n",
    "v_{cyl} = \\begin{pmatrix}-0.4 \\\\ 0.02 \\end{pmatrix}, \\; \n",
    "v_{disp} = \\begin{pmatrix}-0.4 \\\\ -0.09 \\end{pmatrix}, \\\\\n",
    "v_{drat} = \\begin{pmatrix}0.31 \\\\ 0.34 \\end{pmatrix}, \\;\n",
    "v_{gear} = \\begin{pmatrix}0.21 \\\\ 0.55 \\end{pmatrix}, \\;\n",
    "v_{hp} = \\begin{pmatrix}-0.37 \\\\ 0.27 \\end{pmatrix}, \\\\\n",
    "v_{mpg} = \\begin{pmatrix}0.39 \\\\ 0.03 \\end{pmatrix}, \\;\n",
    "v_{qsec} = \\begin{pmatrix}0.22 \\\\ -0.48 \\end{pmatrix}, \\;\n",
    "v_{wt} = \\begin{pmatrix}-0.37 \\\\ -0.17 \\end{pmatrix}\n",
    "\\end{aligned}\n",
    "$$"
   ]
  },
  {
   "cell_type": "markdown",
   "metadata": {},
   "source": [
    "### Checking if our vectors are orthonormal\n",
    "Orthonormal vectors are the vectors which are orthogonal (zero dot product) with length equal to one (unit vectors).\n",
    "\n",
    "#### Orthogonal:\n",
    "We use the dot product between two vectors to check if the vectors are orthogonal or not. If the dot product is 0, that means that the two vectors are orthogonal. The dot product between two vectors is (geometrically): \n",
    "\n",
    "$$\n",
    "\\textbf{a} \\cdot \\textbf{b} = ||\\textbf{a}|| ||\\textbf{b}|| \\cos(\\theta)\n",
    "$$\n",
    "\n",
    "Where $\\theta$ is the angle between the two vectors and $||\\cdot||$ denotes the norm of the vector. Since we assume that the norm of a vector is non-zero, the only way the dot product of two vectors to be zero is when the angle between them is 90 degrees (since $\\cos(90) = 0$). Thus, the dot product is a good way to check if two vectors are perpendicular.\n",
    "\n",
    "#### Unit vectors\n",
    "In order to calculate the length $||\\textbf{a}||$ of a vector we can take the dot product of a vector with itself, namely\n",
    "$$ \n",
    "||\\textbf{a}|| =  \\textbf{a}\\cdot \\textbf{a}\n",
    "$$"
   ]
  },
  {
   "cell_type": "code",
   "execution_count": null,
   "metadata": {},
   "outputs": [],
   "source": [
    "vec1 = pca.components_[0]\n",
    "vec2 = pca.components_[1]\n",
    "\n",
    "# print(np.dot(vec1.T, vec2))\n",
    "print('The dot product between the first two principal components is ',np.round(np.dot(vec1, vec2),5))\n",
    "print('The length of the first  principal component is ',np.round(np.dot(vec1, vec1),5))"
   ]
  },
  {
   "cell_type": "markdown",
   "metadata": {},
   "source": [
    "We see that the first two principal components are orthogonal and the first principal component is also a unit vector. Check other pairs of principal components in order to convince yourself that all principal components are always pairwise orthogonal unit vectors."
   ]
  },
  {
   "cell_type": "markdown",
   "metadata": {},
   "source": [
    "### Plotting Results"
   ]
  },
  {
   "cell_type": "code",
   "execution_count": null,
   "metadata": {},
   "outputs": [],
   "source": [
    "# to plot vectors from the center\n",
    "vecs = pca.components_[0:2].T*2\n",
    "\n",
    "fig, ax = plt.subplots(figsize=(16,8))\n",
    "ax.plot(quant_df_pca[:,0], quant_df_pca[:,1], 'o', markersize=0.01)\n",
    "ax.set_xlabel('Principal Component 1')\n",
    "ax.set_ylabel('Principal Component 2')\n",
    "ax.set_title('Cars Dataset plotted using first 2 Principal Components', fontsize=20)\n",
    "\n",
    "# plotting arrowheads\n",
    "for i, vec in enumerate(vecs):\n",
    "    ax.arrow(0,0,vec[0],vec[1], color='brown', head_width=0.1)\n",
    "    s = 1.3\n",
    "    ax.annotate(quant_df.columns[i], (s*vec[0], s*vec[1]), color='brown')\n",
    "\n",
    "# annotating text\n",
    "for i, txt in enumerate(cars_df_scaled['model']):\n",
    "    ax.annotate(txt, (quant_df_pca[:,0][i], quant_df_pca[:,1][i]), size=12)"
   ]
  },
  {
   "cell_type": "markdown",
   "metadata": {},
   "source": [
    "**Any patterns of interest?** Let us examine the geography more closely. Source: [this blog](https://www.datacamp.com/community/tutorials/pca-analysis-r). "
   ]
  },
  {
   "cell_type": "code",
   "execution_count": null,
   "metadata": {},
   "outputs": [],
   "source": [
    "country = [\"Japan\", \"US\", \"EU\", \"US\", \"EU\", \"Japan\", \"US\", \"EU\", \"US\", \"EU\"]\n",
    "times = [3, 4, 7, 3, 1, 3, 4, 3, 1, 3]\n",
    "country_list = np.array(sum(([x]*y for x,y in zip(country, times)),[]))"
   ]
  },
  {
   "cell_type": "code",
   "execution_count": null,
   "metadata": {},
   "outputs": [],
   "source": [
    "fig, ax = plt.subplots(figsize=(16,8))\n",
    "\n",
    "# main plot\n",
    "ax.plot(quant_df_pca[:,0], quant_df_pca[:,1], 'o', markersize=0.01)\n",
    "ax.set_xlabel('Principal Component 1')\n",
    "ax.set_ylabel('Principal Component 2')\n",
    "ax.set_title('Cars Dataset plotted using first 2 Principal Components', fontsize=20)\n",
    "\n",
    "# plotting arrowheads\n",
    "for i, vec in enumerate(vecs):\n",
    "    ax.arrow(0,0,vec[0],vec[1], color='brown', head_width=0.05)\n",
    "    s = 1.3\n",
    "    ax.annotate(quant_df.columns[i], (s*vec[0], s*vec[1]), color='brown')\n",
    "\n",
    "# plotting names\n",
    "cs = [sns.xkcd_rgb[\"magenta\"], sns.xkcd_rgb[\"denim blue\"], sns.xkcd_rgb[\"medium green\"]]\n",
    "colors = {\"Japan\": cs[0], \"US\": cs[1], \"EU\": cs[2]}\n",
    "\n",
    "# dummy plots to show up in the legend\n",
    "ax.plot(0,0, color=cs[0], label='Japan')\n",
    "ax.plot(0,0, color=cs[1], label='US')\n",
    "ax.plot(0,0, color=cs[2], label='EU')\n",
    "\n",
    "# plotting text with color\n",
    "for i, txt in enumerate(cars_df_scaled['model']):\n",
    "    country = country_list[i]\n",
    "    ax.annotate(txt, (quant_df_pca[:,0][i], quant_df_pca[:,1][i]), color=colors[country], size=12)\n",
    "    \n",
    "ax.legend(fontsize=15);"
   ]
  },
  {
   "cell_type": "markdown",
   "metadata": {},
   "source": [
    "What patterns do you see now?\n",
    "\n",
    "For instance, we can observe that fuel consumption (*mpg*) is increased for the japanese cars and weight (*wt*) is increased for US cars."
   ]
  },
  {
   "cell_type": "markdown",
   "metadata": {},
   "source": [
    "### Addressing `n_components`\n",
    "\n",
    "We notice that PCA takes in 1 parameter: `n_components`. This is the number of principal components that PCA will  use. By default, the number of the used principal components is the minimum of the number of rows and the number of columns in the dataset. \n",
    "\n",
    "**Note**: Setting the default parameter for `n_components` and taking the top-k principal components is equivalent to setting `n_components=k`. Let's check this."
   ]
  },
  {
   "cell_type": "code",
   "execution_count": null,
   "metadata": {},
   "outputs": [],
   "source": [
    "old_components = pca.components_[0:2]\n",
    "\n",
    "# doing pca with 2 components\n",
    "pca2 = PCA(n_components=2).fit(quant_df)\n",
    "\n",
    "new_components = pca2.components_\n",
    "\n",
    "# checking equivalence\n",
    "print(new_components.all() == old_components.all())"
   ]
  },
  {
   "cell_type": "markdown",
   "metadata": {},
   "source": [
    "# PCA to speed up classification of Handwritten Digits\n",
    "\n",
    "This example, using the [MNIST dataset](http://yann.lecun.com/exdb/mnist/), was borrowed from this [Towards Data Science blog post](https://towardsdatascience.com/pca-using-python-scikit-learn-e653f8989e60). In this example, we will be classifying hand-written digits.\n",
    "\n",
    "## Data Loading and EDA"
   ]
  },
  {
   "cell_type": "code",
   "execution_count": null,
   "metadata": {},
   "outputs": [],
   "source": [
    "# we'll use keras a lot more in the last few weeks of the course\n",
    "from keras.datasets import mnist\n",
    "(x_train, y_train), (x_test, y_test) = mnist.load_data()\n",
    "\n",
    "print(x_train.shape, y_train.shape, x_test.shape, y_test.shape)"
   ]
  },
  {
   "cell_type": "markdown",
   "metadata": {},
   "source": [
    "Our training set (`x_train`) contains 60000 images of size 28 by 28. Our training labels (`y_train`) are numbers from 0 to 9. Let's examine one of these values below."
   ]
  },
  {
   "cell_type": "code",
   "execution_count": null,
   "metadata": {},
   "outputs": [],
   "source": [
    "print(y_train[0])\n",
    "fig, ax = plt.subplots()\n",
    "ax.grid(None)\n",
    "ax.imshow(x_train[0], cmap='gray');"
   ]
  },
  {
   "cell_type": "markdown",
   "metadata": {},
   "source": [
    "**Our task** is to classify the test set digits as accurately as possible."
   ]
  },
  {
   "cell_type": "markdown",
   "metadata": {},
   "source": [
    "We notice that the shape of the training set is $6000 \\times 28 \\times 28$ which is a 3-dimensional array.  We have not dealt with these kinds of arrays before. We will deal with images in greater detail (and not only!!!) in the follow-up course, *CS 109b*, if you are interested in doing more of this kind of stuff you should take this course. For now, we will **reshape** the array into a 2-dimensional array of shape $6000\\times 784$."
   ]
  },
  {
   "cell_type": "code",
   "execution_count": null,
   "metadata": {},
   "outputs": [],
   "source": [
    "x_train = x_train.reshape(x_train.shape[0], 784)\n",
    "x_test = x_test.reshape(x_test.shape[0], 784)\n",
    "\n",
    "# check if the shapes are ok\n",
    "print(x_train.shape, y_train.shape, x_test.shape, y_test.shape)"
   ]
  },
  {
   "cell_type": "markdown",
   "metadata": {},
   "source": [
    "## Normalizing Data\n",
    "\n",
    "Image data is usually between 0 and 255 (0 indicating a black pixel and 255 indicating a white pixel). We can normalize these values by dividing by 255. "
   ]
  },
  {
   "cell_type": "code",
   "execution_count": null,
   "metadata": {},
   "outputs": [],
   "source": [
    "# checking the min and max of x_train and x_test\n",
    "print(x_train.min(), x_train.max(), x_test.min(), x_test.max())\n",
    "\n",
    "x_train = (x_train - x_train.min())/(x_train.max() - x_train.min()) \n",
    "x_test = (x_test - x_train.min())/(x_train.max() - x_train.min()) \n",
    "\n",
    "print(x_train.min(), x_train.max(), x_test.min(), x_test.max())"
   ]
  },
  {
   "cell_type": "markdown",
   "metadata": {},
   "source": [
    "## Modeling using Logistic Regression"
   ]
  },
  {
   "cell_type": "code",
   "execution_count": null,
   "metadata": {},
   "outputs": [],
   "source": [
    "from sklearn.linear_model import LogisticRegression\n",
    "from time import time\n",
    "\n",
    "start = time()\n",
    "#‘lbfgs’ solver handles multinomial loss in multiclass problems \n",
    "logreg_model = LogisticRegression(solver='lbfgs').fit(x_train, y_train)\n",
    "end = time()\n",
    "\n",
    "\n",
    "full_logreg_time = end-start\n",
    "print('Time to fit: {}s'.format(full_logreg_time))"
   ]
  },
  {
   "cell_type": "code",
   "execution_count": null,
   "metadata": {},
   "outputs": [],
   "source": [
    "from sklearn.metrics import accuracy_score\n",
    "\n",
    "y_preds_train = logreg_model.predict(x_train)\n",
    "y_preds_test = logreg_model.predict(x_test)\n",
    "\n",
    "full_logreg_score_train = accuracy_score(y_train, y_preds_train)\n",
    "full_logreg_score_test = accuracy_score(y_test, y_preds_test)\n",
    "\n",
    "# Evaluation\n",
    "print('Training Set Score: {}'.format(full_logreg_score_train))\n",
    "print('Test Set Score: {}'.format(full_logreg_score_test))"
   ]
  },
  {
   "cell_type": "code",
   "execution_count": null,
   "metadata": {},
   "outputs": [],
   "source": [
    "# get performance by class \n",
    "pd.crosstab(y_test, y_preds_test, margins=True, rownames=['Actual'], colnames=['Predicted'])"
   ]
  },
  {
   "cell_type": "markdown",
   "metadata": {},
   "source": [
    "We get a high training and test set score but it takes a relatively long time to fit a model. Let us see if we can speed things up when using PCA"
   ]
  },
  {
   "cell_type": "markdown",
   "metadata": {},
   "source": [
    "## Logistic Regression Model after PCA"
   ]
  },
  {
   "cell_type": "code",
   "execution_count": null,
   "metadata": {},
   "outputs": [],
   "source": [
    "# Do PCA onto our training set and inspect\n",
    "pca = PCA(n_components=100).fit(x_train)\n",
    "\n",
    "fig, ax = plt.subplots(ncols=2, figsize=(20,6))\n",
    "ax1, ax2 = ax.ravel()\n",
    "\n",
    "ratio = pca.explained_variance_ratio_\n",
    "ax1.plot(range(1,len(ratio)+1), ratio, 'o-')\n",
    "ax1.set_title('Explained Variance Ratio PCA', fontsize=20)\n",
    "ax1.set_ylabel('Explained Variance Ratio')\n",
    "\n",
    "ratio = pca.explained_variance_ratio_\n",
    "ax2.plot(range(1,len(ratio)+1), np.cumsum(ratio), 'o-')\n",
    "ax2.set_title('Cumulative Sum of Explained Variance Ratio PCA', fontsize=20)\n",
    "ax2.set_ylabel('Cumulative Sum of Explained Variance Ratio');"
   ]
  },
  {
   "cell_type": "markdown",
   "metadata": {},
   "source": [
    "We see that the first 100 principal components hold over 90% of the variance and the first 50 principal components hold over 80% of the variance! We have significantly reduced the dimensionality of our problem! Let us use PCA to find the first 100 principal components of our dataset and transform our `x_train` and `x_test` accordingly."
   ]
  },
  {
   "cell_type": "code",
   "execution_count": null,
   "metadata": {},
   "outputs": [],
   "source": [
    "x_train_pca = pca.transform(x_train)\n",
    "x_test_pca = pca.transform(x_test)\n",
    "\n",
    "print(x_train_pca.shape, x_test_pca.shape)"
   ]
  },
  {
   "cell_type": "code",
   "execution_count": null,
   "metadata": {},
   "outputs": [],
   "source": [
    "start = time()\n",
    "logreg_model_pca = LogisticRegression(solver='lbfgs').fit(x_train_pca, y_train)\n",
    "end = time()\n",
    "\n",
    "print('Time to fit model (100 PCs): {}s'.format(end-start))\n",
    "print('Time to fit model (full dataset): {}s'.format(full_logreg_time))\n",
    "print('So to fit the model with the full dataset is about', np.round(full_logreg_time/(end-start),0), ' times slower than using PCA')\n",
    "\n",
    "fig, ax = plt.subplots(figsize=(10, 5))\n",
    "ax.bar(0, full_logreg_time, width=0.5)\n",
    "ax.bar(1, end-start, width=0.5)\n",
    "ax.set_xlabel('Model')\n",
    "ax.set_xticks([0,1])\n",
    "ax.set_xticklabels(['Full Dataset', '100 PCs'])\n",
    "ax.set_ylabel('Time to Fit Model (s)')\n",
    "ax.set_title('Time taken to fit different models (s)');"
   ]
  },
  {
   "cell_type": "markdown",
   "metadata": {},
   "source": [
    "**Note:** The time taken to fit our model is considerably smaller! Now let us check our accuracy"
   ]
  },
  {
   "cell_type": "code",
   "execution_count": null,
   "metadata": {},
   "outputs": [],
   "source": [
    "y_preds_train_pca = logreg_model_pca.predict(x_train_pca)\n",
    "y_preds_test_pca = logreg_model_pca.predict(x_test_pca)\n",
    "\n",
    "# Evaluation\n",
    "print('Training Set Score (100 PCs): {}'.format(accuracy_score(y_train, y_preds_train_pca)))\n",
    "print('Test Set Score (100 PCs): {}\\n'.format(accuracy_score(y_test, y_preds_test_pca)))\n",
    "\n",
    "print('Training Set Score (full dataset): {}'.format(full_logreg_score_train))\n",
    "print('Test Set Score (full dataset): {}'.format(full_logreg_score_test))"
   ]
  },
  {
   "cell_type": "code",
   "execution_count": null,
   "metadata": {},
   "outputs": [],
   "source": [
    "# get performance by class \n",
    "pd.crosstab(y_test, y_preds_test_pca, margins=True, rownames=['Actual'], colnames=['Predicted'])"
   ]
  },
  {
   "cell_type": "markdown",
   "metadata": {},
   "source": [
    "Not a significant drop in accuracy!! But, since we are losing information by not accounting for all the variance, we are faced with a speed accuracy tradeoff. \n",
    "Explore the case of keeping less principal components."
   ]
  },
  {
   "cell_type": "markdown",
   "metadata": {},
   "source": [
    "## Plotting PCA\n",
    "\n",
    "### Plotting the Reconstructed Image"
   ]
  },
  {
   "cell_type": "code",
   "execution_count": null,
   "metadata": {},
   "outputs": [],
   "source": [
    "fig, ax = plt.subplots(nrows=1, ncols=2, figsize=(8, 4))\n",
    "ax1, ax2 = ax.ravel()\n",
    "\n",
    "ax1.imshow(x_train[0].reshape(28,28), cmap='gray')\n",
    "ax1.grid(None)\n",
    "ax1.set_title('Original Image with 784 components')\n",
    "\n",
    "ax2.imshow(x_train_pca[1].reshape(10,10), cmap='gray')\n",
    "ax2.grid(None)\n",
    "ax2.set_title('Image after PCA with 100 components')\n",
    "\n",
    "fig.tight_layout()"
   ]
  },
  {
   "cell_type": "markdown",
   "metadata": {},
   "source": [
    "Uhhh... this is terrible. But we can use PCA to carry out an inverse transform in order to get a reconstructed image. Let's try again, using `pca.inverse_transform()`! Source: [this github repo](https://github.com/mGalarnyk/Python_Tutorials/blob/master/Sklearn/PCA/PCA_Image_Reconstruction_and_such.ipynb) "
   ]
  },
  {
   "cell_type": "code",
   "execution_count": null,
   "metadata": {},
   "outputs": [],
   "source": [
    "img_reconstructed = pca.inverse_transform(x_train_pca[0])\n",
    "\n",
    "fig, ax = plt.subplots(nrows=1, ncols=2, figsize=(8, 4))\n",
    "ax1, ax2 = ax.ravel()\n",
    "\n",
    "ax1.imshow(x_train[0].reshape(28,28), cmap='gray')\n",
    "ax1.grid(None)\n",
    "ax1.set_title('Original Image with 784 components')\n",
    "\n",
    "ax2.imshow(img_reconstructed.reshape(28,28), cmap='gray')\n",
    "ax2.grid(None)\n",
    "ax2.set_title('Reconstructed Image after PCA with 100 components')\n",
    "\n",
    "fig.tight_layout()"
   ]
  },
  {
   "cell_type": "markdown",
   "metadata": {},
   "source": [
    "### Plotting all our points on a 2-dimensional plot given by the first 2 principal components of PCA\n",
    "\n",
    "This [towards data science article](https://towardsdatascience.com/visualising-high-dimensional-datasets-using-pca-and-t-sne-in-python-8ef87e7915b) has a few similar plots that are pretty cool!"
   ]
  },
  {
   "cell_type": "code",
   "execution_count": null,
   "metadata": {},
   "outputs": [],
   "source": [
    "pca = PCA(n_components=2).fit(x_train)\n",
    "x_train_2 = pca.transform(x_train)\n",
    "print(x_train_2.shape)"
   ]
  },
  {
   "cell_type": "code",
   "execution_count": null,
   "metadata": {},
   "outputs": [],
   "source": [
    "fig, ax = plt.subplots(figsize=(16,8))\n",
    "for i in range(10):\n",
    "    indices = np.where(y_train == i)[0]\n",
    "    data = x_train_2[indices]\n",
    "    ax.plot(data[:,0], data[:,1], 'o', label='{}'.format(i), alpha=0.5)\n",
    "ax.set_title('First 2 Principal Components of MNIST Data', fontsize=20)\n",
    "ax.set_xlabel('Principal Component 1')\n",
    "ax.set_ylabel('Principal Component 2')\n",
    "ax.legend();"
   ]
  },
  {
   "cell_type": "markdown",
   "metadata": {},
   "source": [
    "Any patterns of interest?"
   ]
  },
  {
   "cell_type": "markdown",
   "metadata": {},
   "source": [
    "# So, should I always use PCA?\n",
    "\n",
    "\n",
    "PCA is **great** for:\n",
    "1. Speeding up the training without significant descrease of the predictivity ability of a model compared to a model with all p predictors.\n",
    "2. Visualizing how predictive your features can be of your response, especially in the case of classification.\n",
    "3. Reducing multicollinearity, and thus may improve the computational time of fitting models.\n",
    "4. Reducing dimensionality in very high dimensional settings.\n",
    "\n",
    "PCA is **not so good** in certain situations because:\n",
    "1. Interpretation of coefficients in PCR is completely lost. So do not do PCA if interpretation is important.\n",
    "3. When the predictors' distribution deviates significantly from a multivariable Normal distribution.\n",
    "4. When the high variance does not indicate high importance.\n",
    "5. When the hidden dimensions are not orthonormal.\n"
   ]
  },
  {
   "cell_type": "markdown",
   "metadata": {},
   "source": [
    "----------------\n",
    "### End of Standard Section\n",
    "---------------"
   ]
  }
 ],
 "metadata": {
  "kernelspec": {
   "display_name": "Python 3",
   "language": "python",
   "name": "python3"
  },
  "language_info": {
   "codemirror_mode": {
    "name": "ipython",
    "version": 3
   },
   "file_extension": ".py",
   "mimetype": "text/x-python",
   "name": "python",
   "nbconvert_exporter": "python",
   "pygments_lexer": "ipython3",
   "version": "3.7.4"
  }
 },
 "nbformat": 4,
 "nbformat_minor": 2
}
