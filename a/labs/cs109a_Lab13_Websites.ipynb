{
 "cells": [
  {
   "cell_type": "markdown",
   "metadata": {},
   "source": [
    "# <img style=\"float: left; padding-right: 10px; width: 45px\" src=\"https://raw.githubusercontent.com/Harvard-IACS/2018-CS109A/master/content/styles/iacs.png\"> CS-109A Introduction to Data Science"
   ]
  },
  {
   "cell_type": "markdown",
   "metadata": {},
   "source": [
    "\n",
    "## Lab 13: Making websites!\n",
    "\n",
    "**Harvard University**<br/>\n",
    "**Fall 2019**<br/>\n",
    "**Instructors:** Pavlos Protopapas, Kevin Rader, and Chris Tanner<br/>\n",
    "**Lab Instructors:** Chris Tanner and Eleni Kaxiras<br/>\n",
    "**Authors:** Chris Tanner and Rahul Dave"
   ]
  },
  {
   "cell_type": "code",
   "execution_count": 1,
   "metadata": {},
   "outputs": [
    {
     "data": {
      "text/html": [
       "<style>\n",
       "blockquote { background: #AEDE94; }\n",
       "h1 { \n",
       "    padding-top: 25px;\n",
       "    padding-bottom: 25px;\n",
       "    text-align: left; \n",
       "    padding-left: 10px;\n",
       "    background-color: #DDDDDD; \n",
       "    color: black;\n",
       "}\n",
       "h2 { \n",
       "    padding-top: 10px;\n",
       "    padding-bottom: 10px;\n",
       "    text-align: left; \n",
       "    padding-left: 5px;\n",
       "    background-color: #EEEEEE; \n",
       "    color: black;\n",
       "}\n",
       "\n",
       "div.exercise {\n",
       "\tbackground-color: #ffcccc;\n",
       "\tborder-color: #E9967A; \t\n",
       "\tborder-left: 5px solid #800080; \n",
       "\tpadding: 0.5em;\n",
       "}\n",
       "\n",
       "span.sub-q {\n",
       "\tfont-weight: bold;\n",
       "}\n",
       "div.theme {\n",
       "\tbackground-color: #DDDDDD;\n",
       "\tborder-color: #E9967A; \t\n",
       "\tborder-left: 5px solid #800080; \n",
       "\tpadding: 0.5em;\n",
       "\tfont-size: 18pt;\n",
       "}\n",
       "div.gc { \n",
       "\tbackground-color: #AEDE94;\n",
       "\tborder-color: #E9967A; \t \n",
       "\tborder-left: 5px solid #800080; \n",
       "\tpadding: 0.5em;\n",
       "\tfont-size: 12pt;\n",
       "}\n",
       "p.q1 { \n",
       "    padding-top: 5px;\n",
       "    padding-bottom: 5px;\n",
       "    text-align: left; \n",
       "    padding-left: 5px;\n",
       "    background-color: #EEEEEE; \n",
       "    color: black;\n",
       "}\n",
       "header {\n",
       "   padding-top: 35px;\n",
       "    padding-bottom: 35px;\n",
       "    text-align: left; \n",
       "    padding-left: 10px;\n",
       "    background-color: #DDDDDD; \n",
       "    color: black;\n",
       "}\n",
       "</style>\n",
       "\n"
      ],
      "text/plain": [
       "<IPython.core.display.HTML object>"
      ]
     },
     "execution_count": 1,
     "metadata": {},
     "output_type": "execute_result"
    }
   ],
   "source": [
    "## RUN THIS CELL TO PROPERLY HIGHLIGHT THE EXERCISES\n",
    "import requests\n",
    "from IPython.core.display import HTML\n",
    "styles = requests.get(\"https://raw.githubusercontent.com/Harvard-IACS/2018-CS109A/master/content/styles/cs109.css\").text\n",
    "HTML(styles)"
   ]
  },
  {
   "cell_type": "markdown",
   "metadata": {},
   "source": [
    "## Learning Goals\n",
    "\n",
    "The goal of this lab is for students to:\n",
    "\n",
    "<ul>\n",
    "  <li>Understand why websites are important for this project</li>\n",
    "  <li>Understand the basics of how websites work</li>\n",
    "  <li>Understand how to make a basic website</li>\n",
    "  <li>Connect design, visualization, communication topics discussed earlier to websites</li>\n",
    "</ul>  "
   ]
  },
  {
   "cell_type": "markdown",
   "metadata": {},
   "source": [
    "## Background"
   ]
  },
  {
   "cell_type": "markdown",
   "metadata": {},
   "source": [
    "<div class=\"exercise\"><b>Q1:</b> Why is it useful to make a website for your project, instead of just writing a report (e.g., PDF or Word document file)?</div>"
   ]
  },
  {
   "cell_type": "markdown",
   "metadata": {},
   "source": [
    "### History"
   ]
  },
  {
   "cell_type": "markdown",
   "metadata": {},
   "source": [
    "In the mid-1990s to mid-2000s, before mobile phones were so ubiquitous and connected to the Internet, the general public often had trouble discerning the differences between The Internet and the World Wide Web (WWW). This was understandable because the WWW was tightly integrated into the only way to access the Internet -- via using your phone line to dial into your Internet Service Provider, then use a browser to \"surf\" the web. The only common non-web content were chat messaging services (e.g., AOL's AIM, MSN Messenger, ICQ) and computer games. Yet, it's truly the \n",
    "WWW that helped give rise to the explosion of the Internet and its incredible uses."
   ]
  },
  {
   "cell_type": "markdown",
   "metadata": {},
   "source": [
    "<div class=\"exercise\"><b>Q2:</b> For fun, try to guess when the Internet was created? (i.e., the first connection occurred and data was transmitted between two remote computers). First web browser?</div>"
   ]
  },
  {
   "cell_type": "markdown",
   "metadata": {},
   "source": [
    "The Internet was a research project funded by the US Government (ARPA), and its inception was called ARPANET. The first success of this project was marked by the transmission of data between computers at UCLA and SRI (Stanford) in ____. Many people were involved, but Dr. Leonard Kleinrock, Dr. Vint Cerf, and Dr. Robert Kahn are considered the creators of the Interent. Fortunately, they are all still alive. Vint Cerf's title at Google was infamously \"Internet Evangelist\"\n",
    "\n",
    "The WWW was created by Tim Berners-Lee in ____. He also created the first web browser in the following year, which paved the way for improvements (graphical versions). You can read more about it [here](https://www.w3.org/People/Berners-Lee/). There's always been serious competition amongst browsers as for which would become the most popular. In the 90s, ISPs' built-in browsers were the default, while Netscape and Microsoft's Internet Explorer (IE) competed for dominance. In 1998, the US Government charged Microsoft for being a monopoly, and its Internet Explorer browser was a cornerstone of the lawsuit. You can read more about it [here.](https://en.wikipedia.org/wiki/United_States_v._Microsoft_Corp.)"
   ]
  },
  {
   "cell_type": "markdown",
   "metadata": {},
   "source": [
    "### Website Basics\n",
    "A website is obviously public-facing -- anyone who knows the web address and has permission to visit a website can do so. Yet, how is this made possible?\n",
    "\n",
    "All web pages are just files. Specifically, **each** web page is a particular computer file, typically written in a format called `HTML (HyperText Markup Language).`, that resides on a computer somewhere in the world. All of its included objects (e.g., images, sounds, dynamic scripts that allow for interactive experiences, etc) are separate files. The web page defines how to use, structure, and organize these contained objects. This is just like how a document on your local computer works -- you can have a Word document that contains images for whatever you like. Hopefully that document (i.e., web page) is nicely formatted, has a legit structure without errors, and correctly uses objects (e.g., images) that truly exist.\n",
    "\n",
    "Once a computer has a collection of web pages, which optionally interact and link to one another, how does the common public access it? Doesn't it need permission to access such a machine? Yes, that is what [DNS (domain name service)](https://en.wikipedia.org/wiki/Domain_Name_System) and [HTTP (hypertext transfer protocol)](https://en.wikipedia.org/wiki/Hypertext_Transfer_Protocol) are for. Their intricate details are beyond the scope of this course, but in short:\n",
    "\n",
    "<ul>\n",
    "  <li>DNS allows one to register a URL address (e.g., www.harvard.edu) and designate which specific computer in the world to access (for web page content) when one points their browser at the URL. It's like a forwarding address. It's useful that we can use human language words as an address instead of just long-winded IP addresses (e.g., 182.91.121.89) anytime we want to access a site</li>\n",
    "    <li>HTTP defines the mechanism/protocal for how our computers talk to one another to transfer the files in a reliable, robust manner.</li>\n",
    "</ul>\n",
    "\n",
    "You can read more [here](https://web.stanford.edu/class/msande91si/www-spr04/readings/week1/InternetWhitepaper.htm)."
   ]
  },
  {
   "cell_type": "markdown",
   "metadata": {},
   "source": [
    "## How to make a basic website\n",
    "There are many free options to use, whereby one does not need to purchase a URL domain like www.yourname.com; instead, for free, companies offer you space on their computers and your address will be things like www.theircompany.com/yoursitenamehere/\n",
    "\n",
    "For the course project, you are entitled to use any website service you like. I recommend trying one of the following: \n",
    "\n",
    "- [Wix](http://www.wix.com)\n",
    "- [Google Sites](http://sites.google.com)</li>\n",
    "\n",
    "Google Sites allows you to use your Google account (no need to make a new account). It offers:\n",
    "- very simple creation process, but with potentially limited options\n",
    "- sleek themes, although not many\n",
    "\n",
    "Wix is the most popular. It offers:\n",
    "- very simple creation process, potentially more options\n",
    "- tons of themes\n",
    "\n",
    "Squarespace is another option:\n",
    "- beautifully designed themes, super easy to use\n",
    "- is not free\n",
    "\n",
    "Because Squarespace is not free, I do not suggest using it for this course. However, in the future, for your own purposes, I think it's a great option.\n",
    "\n",
    "Jupyter Notebooks also provides a method for converting your notebooks to a webpage, and GitHub can host your webpage. The downside is that this is more difficult to do, as you may have to manually write HTML code to make any edits. If you are interested in this approach, please visit [Rahul's example](https://github.com/rahuldave/gpages).\n",
    "\n",
    "In lab, let's walk through an example of using Google Sites.\n",
    "\n",
    "## Design Choices\n",
    "Recall everything we learned about visualization and communication. For example, who is your audience? What do you expect them to know ahead of time? Does your design enable a clear understanding of your content, or is it distracting?\n",
    "\n",
    "Think about your navigation style, font choices, font sizes, colors, length and location of text, etc.\n",
    "\n",
    "Please follow all instructions for your project. For example, be sure to include a problem description, EDA, your model, results, and discussion (what worked well, what didn't, what you would like to improve, etc)."
   ]
  },
  {
   "cell_type": "code",
   "execution_count": null,
   "metadata": {},
   "outputs": [],
   "source": []
  }
 ],
 "metadata": {
  "kernelspec": {
   "display_name": "Python 3",
   "language": "python",
   "name": "python3"
  },
  "language_info": {
   "codemirror_mode": {
    "name": "ipython",
    "version": 3
   },
   "file_extension": ".py",
   "mimetype": "text/x-python",
   "name": "python",
   "nbconvert_exporter": "python",
   "pygments_lexer": "ipython3",
   "version": "3.7.4"
  }
 },
 "nbformat": 4,
 "nbformat_minor": 2
}
