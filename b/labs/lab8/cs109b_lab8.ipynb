{
 "cells": [
  {
   "cell_type": "markdown",
   "metadata": {
    "collapsed": true
   },
   "source": [
    "# <img style=\"float: left; padding-right: 10px; width: 45px\" src=\"https://raw.githubusercontent.com/Harvard-IACS/2018-CS109A/master/content/styles/iacs.png\"> CS109B Data Science 2: Advanced Topics in Data Science \n",
    "## Lab 8 - Bayesian Analysis, Part 1 - JAGS (+RL setup)\n",
    "\n",
    "\n",
    "\n",
    "**Harvard University**<br/>\n",
    "**Spring 2019**<br/>\n",
    "**Instructors**: Mark Glickman and Pavlos Protopapas \n",
    "\n",
    "\n",
    "<hr style=\"height:2pt\">"
   ]
  },
  {
   "cell_type": "markdown",
   "metadata": {},
   "source": [
    "Note that this lab has been tested with \n",
    "* pandas version 0.22.0\n",
    "* rpy2 version 2.9.4\n",
    "\n",
    "The latest libraries may have changed somewhat since these versions; if you are having problems, try using these versions.\n",
    "\n",
    "In this lab, we are working with JAGS, so make sure that it is installed on your system."
   ]
  },
  {
   "cell_type": "code",
   "execution_count": null,
   "metadata": {},
   "outputs": [],
   "source": [
    "import os\n",
    "os.environ['R_HOME'] = \"/usr/share/anaconda3/lib/R\""
   ]
  },
  {
   "cell_type": "code",
   "execution_count": null,
   "metadata": {},
   "outputs": [],
   "source": [
    "import pyjags\n",
    "import numpy as np\n",
    "\n",
    "import matplotlib.pyplot as plt\n",
    "%matplotlib inline \n",
    "\n",
    "import pandas as pd\n",
    "import rpy2\n",
    "\n",
    "from rpy2.robjects.packages import importr\n",
    "#If there are errors about missing R packages, run the code below:\n",
    "# r_utils = importr(\"utils\")\n",
    "# r_utils.install_packages('coda')\n",
    "r_coda = importr(\"coda\")\n",
    "\n",
    "from rpy2.robjects import pandas2ri\n",
    "pandas2ri.activate()"
   ]
  },
  {
   "cell_type": "markdown",
   "metadata": {},
   "source": [
    "## Example 1: A Bayesian Coin Flip\n",
    "\n",
    "**The idea here is to use JAGS to estimate how fair a coin is, based on 100 coin flips.**"
   ]
  },
  {
   "cell_type": "code",
   "execution_count": null,
   "metadata": {},
   "outputs": [],
   "source": [
    "coinflip_code = '''\n",
    "model {\n",
    "  for (i in 1:N){\n",
    "    x[i] ~ dbern(theta)\n",
    "  }\n",
    "  theta ~ dunif(0,1)\n",
    "}\n",
    "'''"
   ]
  },
  {
   "cell_type": "code",
   "execution_count": null,
   "metadata": {},
   "outputs": [],
   "source": [
    "#generate some data for our coin\n",
    "coinflip_N = 100\n",
    "true_theta = 0.6\n",
    "coinflip_x = np.random.binomial(1, true_theta, coinflip_N)"
   ]
  },
  {
   "cell_type": "code",
   "execution_count": null,
   "metadata": {},
   "outputs": [],
   "source": [
    "init_theta = 0.5 #prior is that coin is fair\n",
    "n_chains = 3\n",
    "\n",
    "coinflip_model = pyjags.Model(coinflip_code, data=dict(x=coinflip_x, N=coinflip_N), init = dict(theta=init_theta), chains=n_chains)\n"
   ]
  },
  {
   "cell_type": "code",
   "execution_count": null,
   "metadata": {},
   "outputs": [],
   "source": [
    "coinflip_burnin = coinflip_model.sample(500, vars=['theta']) #warmup/burn-in\n",
    "coinflip_samples = coinflip_model.sample(2500, vars=['theta'])\n"
   ]
  },
  {
   "cell_type": "code",
   "execution_count": null,
   "metadata": {},
   "outputs": [],
   "source": [
    "_ = plt.figure(figsize=(11,8.5))\n",
    "_ = plt.plot(range(500),coinflip_burnin['theta'][0,:,0],color=\"red\",label=\"Chain 1\")\n",
    "_ = plt.plot(range(500),coinflip_burnin['theta'][0,:,1],color=\"blue\",label=\"Chain 2\")\n",
    "_ = plt.plot(range(500),coinflip_burnin['theta'][0,:,2],color=\"cyan\",label=\"Chain 3\")\n",
    "_ = plt.xlabel(\"iteration\")\n",
    "_ = plt.ylabel(\"theta\")\n",
    "_ = plt.title(\"Traceplot for coinflip data: theta\")\n",
    "_ = plt.legend()"
   ]
  },
  {
   "cell_type": "code",
   "execution_count": null,
   "metadata": {},
   "outputs": [],
   "source": [
    "_ = plt.figure(figsize=(11,8.5))\n",
    "_ = plt.plot(range(501,3001),coinflip_samples['theta'][0,:,0],color=\"red\",label=\"Chain 1\")\n",
    "_ = plt.plot(range(501,3001),coinflip_samples['theta'][0,:,1],color=\"blue\",label=\"Chain 2\")\n",
    "_ = plt.plot(range(501,3001),coinflip_samples['theta'][0,:,2],color=\"cyan\",label=\"Chain 3\")\n",
    "_ = plt.xlabel(\"iteration\")\n",
    "_ = plt.ylabel(\"theta\")\n",
    "_ = plt.title(\"Traceplot for coinflip data: theta\")\n",
    "_ = plt.legend()"
   ]
  },
  {
   "cell_type": "code",
   "execution_count": null,
   "metadata": {},
   "outputs": [],
   "source": [
    "#chain 1\n",
    "coinflip_chain1 = coinflip_samples['theta'][0][:,0]\n",
    "coinflip_chain1_df = pd.DataFrame({'theta':coinflip_chain1})\n",
    "coinflip_chain1_mcmc = r_coda.mcmc(pandas2ri.py2ri(coinflip_chain1_df))\n",
    "\n",
    "#chain 2\n",
    "coinflip_chain2 = coinflip_samples['theta'][0][:,1]\n",
    "coinflip_chain2_df = pd.DataFrame({'theta':coinflip_chain2})\n",
    "coinflip_chain2_mcmc = r_coda.mcmc(pandas2ri.py2ri(coinflip_chain2_df))\n",
    "\n",
    "#chain 3\n",
    "coinflip_chain3 = coinflip_samples['theta'][0][:,2]\n",
    "coinflip_chain3_df = pd.DataFrame({'theta':coinflip_chain3})\n",
    "coinflip_chain3_mcmc = r_coda.mcmc(pandas2ri.py2ri(coinflip_chain3_df))\n",
    "\n",
    "#convert to mcmc_list object\n",
    "coinflip_chains=r_coda.mcmc_list(coinflip_chain1_mcmc,coinflip_chain2_mcmc,coinflip_chain3_mcmc)\n",
    "\n",
    "#get n_eff and Rhat\n",
    "coinflip_n_eff = np.round(np.array(r_coda.effectiveSize(coinflip_chains))) #round because must be an integer\n",
    "coinflip_rhat = np.array(r_coda.gelman_diag(coinflip_chains).rx2(\"psrf\"))\n",
    "coinflip_rhat = coinflip_rhat[0][0] #extract point estimates\n",
    "\n",
    "#calculate summary\n",
    "coinflip_theta_summary = [np.mean(coinflip_samples['theta']),np.std(coinflip_samples['theta'])]\n",
    "for i in [0.025,0.25,0.5,0.75,0.975]:\n",
    "    coinflip_theta_summary.append(np.quantile(coinflip_samples['theta'],i))\n",
    "coinflip_theta_summary.append(coinflip_n_eff[0])\n",
    "coinflip_theta_summary.append(coinflip_rhat)\n",
    "coinflip_summary = pd.DataFrame([coinflip_theta_summary],columns=[\"mean\",\"sd\",\"2.5%\",\"25%\",\"50%\",\"75%\",\"97.5%\",\"n_eff\",\"Rhat\"],index=[\"theta\"])\n",
    "coinflip_summary.round(3)"
   ]
  },
  {
   "cell_type": "markdown",
   "metadata": {},
   "source": [
    "### Exercise:\n",
    "\n",
    "Try running the analysis above with different values of $p$ (the probability of the coin), as well as with different values for N (number of coin flips in the data). What do you observe?"
   ]
  },
  {
   "cell_type": "code",
   "execution_count": null,
   "metadata": {},
   "outputs": [],
   "source": [
    "#try it here"
   ]
  },
  {
   "cell_type": "markdown",
   "metadata": {},
   "source": [
    "## Example 2: Mean and Standard Deviation of the Normal\n",
    "\n",
    "**Given samples from a normal distribution, we want to estimate its mean and standard deviation.**"
   ]
  },
  {
   "cell_type": "code",
   "execution_count": null,
   "metadata": {},
   "outputs": [],
   "source": [
    "normal_code = '''\n",
    "model {\n",
    "    for (i in 1:N){\n",
    "    x[i] ~ dnorm(mu, tau)\n",
    "    }\n",
    "mu ~ dnorm(0,.0001)\n",
    "tau = pow(sigma, -2)\n",
    "sigma ~ dunif(0,100)\n",
    "}\n",
    "'''"
   ]
  },
  {
   "cell_type": "code",
   "execution_count": null,
   "metadata": {},
   "outputs": [],
   "source": [
    "#generate some data for our normal distribution\n",
    "normal_N = 1000\n",
    "true_mu = -5\n",
    "true_sigma = 5\n",
    "normal_x = np.random.normal(true_mu, true_sigma, 1000) #true data: mean = -5, standard deviation = 5\n",
    "\n",
    "#prior is that this is a standard normal\n",
    "init_mu = 0 \n",
    "init_sigma = 1 "
   ]
  },
  {
   "cell_type": "code",
   "execution_count": null,
   "metadata": {},
   "outputs": [],
   "source": [
    "\n",
    "normal_model = pyjags.Model(normal_code, data=dict(x=normal_x, N=normal_N), init = dict(mu=init_mu, sigma=init_sigma),chains=3)\n",
    "normal_burnin = normal_model.sample(500, vars=['mu','sigma']) #warmup/burn-in\n",
    "normal_samples = normal_model.sample(2500, vars=['mu','sigma'])\n"
   ]
  },
  {
   "cell_type": "code",
   "execution_count": null,
   "metadata": {},
   "outputs": [],
   "source": [
    "_ = plt.figure(figsize=(11,8.5))\n",
    "_ = plt.plot(range(500),normal_burnin['mu'][0,:,0],color=\"red\",label=\"Chain 1\")\n",
    "_ = plt.plot(range(500),normal_burnin['mu'][0,:,1],color=\"blue\",label=\"Chain 2\")\n",
    "_ = plt.plot(range(500),normal_burnin['mu'][0,:,2],color=\"cyan\",label=\"Chain 3\")\n",
    "_ = plt.xlabel(\"iteration\")\n",
    "_ = plt.ylabel(\"mu\")\n",
    "_ = plt.title(\"Traceplot for normal data: mu\")\n",
    "_ = plt.legend()"
   ]
  },
  {
   "cell_type": "code",
   "execution_count": null,
   "metadata": {},
   "outputs": [],
   "source": [
    "_ = plt.figure(figsize=(11,8.5))\n",
    "_ = plt.plot(range(501,3001),normal_samples['mu'][0,:,0],color=\"red\",label=\"Chain 1\")\n",
    "_ = plt.plot(range(501,3001),normal_samples['mu'][0,:,1],color=\"blue\",label=\"Chain 2\")\n",
    "_ = plt.plot(range(501,3001),normal_samples['mu'][0,:,2],color=\"cyan\",label=\"Chain 3\")\n",
    "_ = plt.xlabel(\"iteration\")\n",
    "_ = plt.ylabel(\"mu\")\n",
    "_ = plt.title(\"Traceplot for normal data: mu\")\n",
    "_ = plt.legend()"
   ]
  },
  {
   "cell_type": "code",
   "execution_count": null,
   "metadata": {},
   "outputs": [],
   "source": [
    "_ = plt.figure(figsize=(11,8.5))\n",
    "_ = plt.plot(range(500),normal_burnin['sigma'][0,:,0],color=\"red\",label=\"Chain 1\")\n",
    "_ = plt.plot(range(500),normal_burnin['sigma'][0,:,1],color=\"blue\",label=\"Chain 2\")\n",
    "_ = plt.plot(range(500),normal_burnin['sigma'][0,:,2],color=\"cyan\",label=\"Chain 3\")\n",
    "_ = plt.xlabel(\"iteration\")\n",
    "_ = plt.ylabel(\"sigma\")\n",
    "_ = plt.title(\"Traceplot for normal data: sigma\")\n",
    "_ = plt.legend()"
   ]
  },
  {
   "cell_type": "code",
   "execution_count": null,
   "metadata": {},
   "outputs": [],
   "source": [
    "_ = plt.figure(figsize=(11,8.5))\n",
    "_ = plt.plot(range(501,3001),normal_samples['sigma'][0,:,0],color=\"red\",label=\"Chain 1\")\n",
    "_ = plt.plot(range(501,3001),normal_samples['sigma'][0,:,1],color=\"blue\",label=\"Chain 2\")\n",
    "_ = plt.plot(range(501,3001),normal_samples['sigma'][0,:,2],color=\"cyan\",label=\"Chain 3\")\n",
    "_ = plt.xlabel(\"iteration\")\n",
    "_ = plt.ylabel(\"sigma\")\n",
    "_ = plt.title(\"Traceplot for normal data: sigma\")\n",
    "_ = plt.legend()"
   ]
  },
  {
   "cell_type": "code",
   "execution_count": null,
   "metadata": {},
   "outputs": [],
   "source": [
    "#chain 1\n",
    "normal_chain1 = np.column_stack((normal_samples['mu'][0][:,0],normal_samples['sigma'][0][:,0]))\n",
    "normal_chain1_df = pd.DataFrame({'mu':normal_chain1[:,0],'sigma':normal_chain1[:,1]})\n",
    "normal_chain1_mcmc = r_coda.mcmc(pandas2ri.py2ri(normal_chain1_df))\n",
    "#chain 2\n",
    "normal_chain2 = np.column_stack((normal_samples['mu'][0][:,1],normal_samples['sigma'][0][:,1]))\n",
    "normal_chain2_df = pd.DataFrame({'mu':normal_chain2[:,0],'sigma':normal_chain2[:,1]})\n",
    "normal_chain2_mcmc = r_coda.mcmc(pandas2ri.py2ri(normal_chain2_df))\n",
    "#chain 3\n",
    "normal_chain3 = np.column_stack((normal_samples['mu'][0][:,2],normal_samples['sigma'][0][:,2]))\n",
    "normal_chain3_df = pd.DataFrame({'mu':normal_chain3[:,0],'sigma':normal_chain3[:,1]})\n",
    "normal_chain3_mcmc = r_coda.mcmc(pandas2ri.py2ri(normal_chain3_df))\n",
    "#convert to mcmc_list object\n",
    "normal_chains=r_coda.mcmc_list(normal_chain1_mcmc,normal_chain2_mcmc,normal_chain3_mcmc)\n",
    "#get n_eff and Rhat\n",
    "normal_n_eff = np.round(np.array(r_coda.effectiveSize(normal_chains))) #round because must be an integer\n",
    "normal_rhat = np.array(r_coda.gelman_diag(normal_chains).rx2(\"psrf\"))\n",
    "normal_rhat = np.array([normal_rhat[0][0],normal_rhat[1][0]]) #extract point estimates\n",
    "#calculate summary\n",
    "normal_mu_summary = [np.mean(normal_samples['mu']),np.std(normal_samples['mu'])]\n",
    "normal_sigma_summary = [np.mean(normal_samples['sigma']),np.std(normal_samples['sigma'])]\n",
    "for i in [0.025,0.25,0.5,0.75,0.975]:\n",
    "    normal_mu_summary.append(np.quantile(normal_samples['mu'],i))\n",
    "    normal_sigma_summary.append(np.quantile(normal_samples['sigma'],i))\n",
    "normal_mu_summary.append(normal_n_eff[0])\n",
    "normal_mu_summary.append(normal_rhat[0])\n",
    "normal_sigma_summary.append(normal_n_eff[1])\n",
    "normal_sigma_summary.append(normal_rhat[1])\n",
    "normal_summary = pd.DataFrame([normal_mu_summary,normal_sigma_summary],columns=[\"mean\",\"sd\",\"2.5%\",\"25%\",\"50%\",\"75%\",\"97.5%\",\"n_eff\",\"Rhat\"],index=[\"mu\",\"sigma\"])\n",
    "normal_summary.round(3)"
   ]
  },
  {
   "cell_type": "markdown",
   "metadata": {},
   "source": [
    "### Exercise:\n",
    "\n",
    "Try varying the length of the burn-in period and number of iterations in the chains. What do you observe?"
   ]
  },
  {
   "cell_type": "code",
   "execution_count": null,
   "metadata": {},
   "outputs": [],
   "source": [
    "#try it here"
   ]
  },
  {
   "cell_type": "markdown",
   "metadata": {},
   "source": [
    "## Example 3: Linear Regression\n",
    "\n",
    "**We will run a simple linear regression using JAGS.**"
   ]
  },
  {
   "cell_type": "code",
   "execution_count": null,
   "metadata": {},
   "outputs": [],
   "source": [
    "regression_code = '''\n",
    "model {       \n",
    "    for (i in 1:N){\n",
    "        y[i] ~ dnorm(mu[i], tau)\n",
    "        mu[i] = a + b * x[i]       \n",
    "    }       \n",
    "a ~ dnorm(0, .0001)       \n",
    "b ~ dnorm(0, .0001)       \n",
    "tau = pow(sigma, -2)       \n",
    "sigma ~ dunif(0, 100)\n",
    "}\n",
    "'''"
   ]
  },
  {
   "cell_type": "code",
   "execution_count": null,
   "metadata": {},
   "outputs": [],
   "source": [
    "regression_N = 1000\n",
    "true_b = 5\n",
    "true_a = 70\n",
    "regression_x = np.arange(1,1001)\n",
    "regression_epsilon = np.random.normal(true_a,100,1000)\n",
    "regression_y = true_b*regression_x + regression_epsilon\n",
    "#prior is that y = x (i.e., a = 0, b = 1)\n",
    "prior_a = 0\n",
    "prior_b = 1"
   ]
  },
  {
   "cell_type": "code",
   "execution_count": null,
   "metadata": {},
   "outputs": [],
   "source": [
    "regression_model = pyjags.Model(regression_code, data=dict(x=regression_x, y=regression_y, N = regression_N), init = dict(a = prior_a, b = prior_b),chains=3)\n",
    "regression_burnin = regression_model.sample(500, vars=['a','b']) #warmup/burn-in\n",
    "regression_samples = regression_model.sample(2500, vars=['a','b'])"
   ]
  },
  {
   "cell_type": "code",
   "execution_count": null,
   "metadata": {},
   "outputs": [],
   "source": [
    "_ = plt.figure(figsize=(11,8.5))\n",
    "_ = plt.plot(range(500),regression_burnin['a'][0,:,0],color=\"red\",label=\"Chain 1\")\n",
    "_ = plt.plot(range(500),regression_burnin['a'][0,:,1],color=\"blue\",label=\"Chain 2\")\n",
    "_ = plt.plot(range(500),regression_burnin['a'][0,:,2],color=\"cyan\",label=\"Chain 3\")\n",
    "_ = plt.xlabel(\"iteration\")\n",
    "_ = plt.ylabel(\"a\")\n",
    "_ = plt.title(\"Traceplot for regression data: a\")\n",
    "_ = plt.legend()"
   ]
  },
  {
   "cell_type": "code",
   "execution_count": null,
   "metadata": {},
   "outputs": [],
   "source": [
    "_ = plt.figure(figsize=(11,8.5))\n",
    "_ = plt.plot(range(501,3001),regression_samples['a'][0,:,0],color=\"red\",label=\"Chain 1\")\n",
    "_ = plt.plot(range(501,3001),regression_samples['a'][0,:,1],color=\"blue\",label=\"Chain 2\")\n",
    "_ = plt.plot(range(501,3001),regression_samples['a'][0,:,2],color=\"cyan\",label=\"Chain 3\")\n",
    "_ = plt.xlabel(\"iteration\")\n",
    "_ = plt.ylabel(\"a\")\n",
    "_ = plt.title(\"Traceplot for regression data: a\")\n",
    "_ = plt.legend()"
   ]
  },
  {
   "cell_type": "code",
   "execution_count": null,
   "metadata": {},
   "outputs": [],
   "source": [
    "_ = plt.figure(figsize=(11,8.5))\n",
    "_ = plt.plot(range(500),regression_burnin['b'][0,:,0],color=\"red\",label=\"Chain 1\")\n",
    "_ = plt.plot(range(500),regression_burnin['b'][0,:,1],color=\"blue\",label=\"Chain 2\")\n",
    "_ = plt.plot(range(500),regression_burnin['b'][0,:,2],color=\"cyan\",label=\"Chain 3\")\n",
    "_ = plt.xlabel(\"iteration\")\n",
    "_ = plt.ylabel(\"b\")\n",
    "_ = plt.title(\"Traceplot for regression data: b\")\n",
    "_ = plt.legend()"
   ]
  },
  {
   "cell_type": "code",
   "execution_count": null,
   "metadata": {},
   "outputs": [],
   "source": [
    "_ = plt.figure(figsize=(11,8.5))\n",
    "_ = plt.plot(range(501,3001),regression_samples['b'][0,:,0],color=\"red\",label=\"Chain 1\")\n",
    "_ = plt.plot(range(501,3001),regression_samples['b'][0,:,1],color=\"blue\",label=\"Chain 2\")\n",
    "_ = plt.plot(range(501,3001),regression_samples['b'][0,:,2],color=\"cyan\",label=\"Chain 3\")\n",
    "_ = plt.xlabel(\"iteration\")\n",
    "_ = plt.ylabel(\"b\")\n",
    "_ = plt.title(\"Traceplot for regression data: b\")\n",
    "_ = plt.legend()"
   ]
  },
  {
   "cell_type": "code",
   "execution_count": null,
   "metadata": {},
   "outputs": [],
   "source": [
    "#chain 1\n",
    "regression_chain1 = np.column_stack((regression_samples['a'][0][:,0],regression_samples['b'][0][:,0]))\n",
    "regression_chain1_df = pd.DataFrame({'a':regression_chain1[:,0],'b':regression_chain1[:,1]})\n",
    "regression_chain1_mcmc = r_coda.mcmc(pandas2ri.py2ri(regression_chain1_df))\n",
    "\n",
    "#chain 2\n",
    "regression_chain2 = np.column_stack((regression_samples['a'][0][:,1],regression_samples['b'][0][:,1]))\n",
    "regression_chain2_df = pd.DataFrame({'a':regression_chain2[:,0],'b':regression_chain2[:,1]})\n",
    "regression_chain2_mcmc = r_coda.mcmc(pandas2ri.py2ri(regression_chain2_df))\n",
    "\n",
    "#chain 3\n",
    "regression_chain3 = np.column_stack((regression_samples['a'][0][:,2],regression_samples['b'][0][:,2]))\n",
    "regression_chain3_df = pd.DataFrame({'a':regression_chain3[:,0],'b':regression_chain3[:,1]})\n",
    "regression_chain3_mcmc = r_coda.mcmc(pandas2ri.py2ri(regression_chain3_df))\n",
    "\n",
    "#convert to mcmc_list object\n",
    "regression_chains=r_coda.mcmc_list(regression_chain1_mcmc,regression_chain2_mcmc,regression_chain3_mcmc)\n",
    "\n",
    "#get n_eff and Rhat\n",
    "regression_n_eff = np.round(np.array(r_coda.effectiveSize(regression_chains))) #round because must be an integer\n",
    "regression_rhat = np.array(r_coda.gelman_diag(regression_chains).rx2(\"psrf\"))\n",
    "regression_rhat = np.array([regression_rhat[0][0],regression_rhat[1][0]]) #extract point estimates\n",
    "\n",
    "#calculate summary\n",
    "regression_a_summary = [np.mean(regression_samples['a']),np.std(regression_samples['a'])]\n",
    "regression_b_summary = [np.mean(regression_samples['b']),np.std(regression_samples['b'])]\n",
    "for i in [0.025,0.25,0.5,0.75,0.975]:\n",
    "    regression_a_summary.append(np.quantile(regression_samples['a'],i))\n",
    "    regression_b_summary.append(np.quantile(regression_samples['b'],i))\n",
    "regression_a_summary.append(regression_n_eff[0])\n",
    "regression_a_summary.append(regression_rhat[0])\n",
    "regression_b_summary.append(regression_n_eff[1])\n",
    "regression_b_summary.append(regression_rhat[1])\n",
    "regression_summary = pd.DataFrame([regression_a_summary,regression_b_summary],columns=[\"mean\",\"sd\",\"2.5%\",\"25%\",\"50%\",\"75%\",\"97.5%\",\"n_eff\",\"Rhat\"],index=[\"a\",\"b\"])\n",
    "regression_summary.round(3)"
   ]
  },
  {
   "cell_type": "markdown",
   "metadata": {},
   "source": [
    "### Exercise:\n",
    "\n",
    "Compare the results of performing a linear regression with this method and a non-Bayesian approach (say, using the sklearn LinearRegression function). What do you observe?"
   ]
  },
  {
   "cell_type": "code",
   "execution_count": null,
   "metadata": {},
   "outputs": [],
   "source": [
    "#try it here\n"
   ]
  },
  {
   "cell_type": "markdown",
   "metadata": {},
   "source": [
    "## Example 4: Reinforcement Learning with Open AI Gym"
   ]
  },
  {
   "cell_type": "markdown",
   "metadata": {},
   "source": [
    "In this lab we are going to work with OpenAIgym's FrozenLake environment. The details of the environment can be found in the link https://gym.openai.com/envs/FrozenLake-v0/. \n",
    "\n",
    "\n",
    "Winter is here. You and your friends were tossing around a frisbee at the park when you made a wild throw that left the frisbee out in the middle of the lake. The water is mostly frozen, but there are a few holes where the ice has melted. If you step into one of those holes, you'll fall into the freezing water. At this time, there's an international frisbee shortage, so it's absolutely imperative that you navigate across the lake and retrieve the disc. \n",
    "\n",
    "The agent controls the movement of a character in a grid world. Some tiles of the grid are walkable, and others lead to the agent falling into the water. Additionally, the movement direction of the agent is uncertain and only partially depends on the chosen direction. The agent is rewarded for finding a walkable path to a goal tile.\n",
    "\n",
    "The surface is described using a grid like the following:\n",
    "[PP: WOULD IT BETTER TO INCLUDE A DIAGRAM]\n",
    "\n",
    "- S: starting point, safe\n",
    "- F: frozen surface, safe\n",
    "- H: hole, fall to your doom\n",
    "- G: goal, where the frisbee is located\n",
    "\n",
    "SFFF  <br> \n",
    "FHFH <br> \n",
    "FFFH  <br> \n",
    "HFFG <br> \n",
    "\n",
    "Expected actions are Left(0), Right(1), Down(2), Up(3). \n",
    "\n",
    "The episode ends when you reach the goal or fall in a hole. You receive a reward of 1 if you reach the goal, and zero otherwise.\n"
   ]
  },
  {
   "cell_type": "code",
   "execution_count": null,
   "metadata": {},
   "outputs": [],
   "source": [
    "import gym\n",
    "from gym.envs.registration import register\n",
    "register(id='FrozenLakeNotSlippery-v0',\n",
    "    entry_point='gym.envs.toy_text:FrozenLakeEnv',\n",
    "    kwargs={'map_name' : '4x4', 'is_slippery': False},\n",
    "    max_episode_steps=100,\n",
    "    reward_threshold=0.8196, # optimum = .8196\n",
    ")"
   ]
  },
  {
   "cell_type": "code",
   "execution_count": null,
   "metadata": {},
   "outputs": [],
   "source": [
    "from gym.envs.registration import register\n",
    "register(\n",
    "    id='FrozenLake8x8NotSlippery-v0',\n",
    "    entry_point='gym.envs.toy_text:FrozenLakeEnv',\n",
    "    kwargs={'map_name' : '8x8', 'is_slippery': False},\n",
    "    max_episode_steps=100,\n",
    "    reward_threshold=0.8196, # optimum = .8196\n",
    ")"
   ]
  },
  {
   "cell_type": "markdown",
   "metadata": {},
   "source": [
    "*hint:* If you receive an error message while registering the above env the second time you run this cell again, ignore the error message or restart the kernel. \n",
    "\n",
    "Throughout the assignment, use only the environments we registered in the previous cells:\n",
    "- `FrozenLake8x8NotSlippery-v0`\n",
    "- `FrozenLakeNotSlippery-v0` \n",
    "\n",
    "Even though the original problem description has slippery environment, we are working in a non-slippery environment. In our environment, if you go right, you only go right whereas in the original environment, if you intend to go right, you can go right, up or down with 1/3 probability.\n",
    "\n"
   ]
  },
  {
   "cell_type": "code",
   "execution_count": null,
   "metadata": {},
   "outputs": [],
   "source": [
    "import gym\n",
    "import numpy as np\n",
    "\n",
    "#Change environment to FrozenLake8x8 to see grid.\n",
    "env = gym.make('FrozenLake-v0')\n",
    "# env = gym.make('FrozenLake8x8NotSlippery-v0')\n",
    "\n",
    "print(env.observation_space.n)\n",
    "\n",
    "\n",
    "#Both the grids look like as follows.\n",
    "'''\n",
    "    \"4x4\": [\n",
    "        \"SFFF\",\n",
    "        \"FHFH\",\n",
    "        \"FFFH\",\n",
    "        \"HFFG\"\n",
    "    ],\n",
    "    \"8x8\": [\n",
    "        \"SFFFFFFF\",\n",
    "        \"FFFFFFFF\",\n",
    "        \"FFFHFFFF\",\n",
    "        \"FFFFFHFF\",\n",
    "        \"FFFHFFFF\",\n",
    "        \"FHHFFFHF\",\n",
    "        \"FHFFHFHF\",\n",
    "        \"FFFHFFFG\"\n",
    "    ]'''\n",
    "\n",
    "#env.render() prints the frozenlake with an indicator showing where the agent is. You can use it for debugging.\n",
    "env.render()"
   ]
  },
  {
   "cell_type": "code",
   "execution_count": null,
   "metadata": {},
   "outputs": [],
   "source": [
    "print(env.observation_space.n)\n",
    "print(env.action_space.n)"
   ]
  },
  {
   "cell_type": "code",
   "execution_count": null,
   "metadata": {},
   "outputs": [],
   "source": [
    "Q = np.zeros([env.observation_space.n,env.action_space.n])\n",
    "\n",
    "def choose_action(state):\n",
    "    return np.random.choice(np.array([0,1,2,3]))\n",
    "\n",
    "def learn(s, s1, r, a):\n",
    "    return"
   ]
  },
  {
   "cell_type": "code",
   "execution_count": null,
   "metadata": {
    "scrolled": true
   },
   "outputs": [],
   "source": [
    "# Set learning parameters\n",
    "################\n",
    "\n",
    "# num_episodes = 2000\n",
    "# epsilon = 0.0\n",
    "# max_steps = 100\n",
    "# lr_rate = 0.0\n",
    "# gamma = 0.0\n",
    "# rList = []\n",
    "\n",
    "num_episodes = 10\n",
    "max_iter_per_episode = 20\n",
    "for i in range(num_episodes):\n",
    "    iter = 0\n",
    "            \n",
    "    #Reset environment and get an initial state - should be done at start of each episode.\n",
    "    s = env.reset()\n",
    "    rAll = 0\n",
    "    d = False\n",
    "    j = 0\n",
    "    while iter < max_iter_per_episode:\n",
    "        iter+=1\n",
    "        #Choose an action\n",
    "        a = choose_action(s)\n",
    "        # env.step() gives you next state, reward, done(whether the episode is over)\n",
    "        # s1 - new state, r-reward, d-whether you are done or not\n",
    "        s1,r,d,_ = env.step(a)\n",
    "        print('State : ',s, ' Action : ', a, ' State 1 : ', s1, ' Reward : ',r, 'Done : ', d)\n",
    "        \n",
    "        learn(s, s1, r, a)\n",
    "        \n",
    "        if d:\n",
    "            print('Episode Over')\n",
    "            if r != 1:\n",
    "                print('Fell into hole with reward ', r)            \n",
    "            break\n",
    "        s = s1\n",
    "    if r==1:\n",
    "        print(i)\n",
    "        break"
   ]
  }
 ],
 "metadata": {
  "kernelspec": {
   "display_name": "Python 3",
   "language": "python",
   "name": "python3"
  },
  "language_info": {
   "codemirror_mode": {
    "name": "ipython",
    "version": 3
   },
   "file_extension": ".py",
   "mimetype": "text/x-python",
   "name": "python",
   "nbconvert_exporter": "python",
   "pygments_lexer": "ipython3",
   "version": "3.6.8"
  }
 },
 "nbformat": 4,
 "nbformat_minor": 1
}
