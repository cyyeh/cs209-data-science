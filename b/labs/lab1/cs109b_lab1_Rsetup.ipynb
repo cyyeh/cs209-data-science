{
 "cells": [
  {
   "cell_type": "code",
   "execution_count": null,
   "metadata": {},
   "outputs": [],
   "source": [
    "#---------Test Imports-------------\n",
    "import numpy as np\n",
    "import keras\n",
    "import gensim\n",
    "import nltk\n",
    "keras.layers.Dense(20)"
   ]
  },
  {
   "cell_type": "code",
   "execution_count": null,
   "metadata": {},
   "outputs": [],
   "source": [
    "#-------Download R packages---------\n",
    "## these two lines for JupyterHub only\n",
    "#import os\n",
    "#os.environ['R_HOME'] = \"/usr/share/anaconda3/lib/R\"\n",
    "\n",
    "import rpy2\n",
    "from rpy2.robjects.packages import importr\n",
    "\n",
    "r_utils = importr('utils')\n",
    "\n",
    "package_list = ['aplpack',\n",
    "    'cluster',\n",
    "    'codetools',\n",
    "    'dbscan',\n",
    "    'factoextra',\n",
    "    'gam',\n",
    "    'ggplot2',\n",
    "    'splines',\n",
    "    'TeachingDemos'\n",
    "]\n",
    "\n",
    "for name in package_list:\n",
    "    r_utils.install_packages(name)\n",
    "\n",
    "import rpy2\n",
    "from rpy2.robjects.packages import importr\n",
    "r_utils = importr('utils')\n",
    "\n",
    "package_list = ['aplpack',\n",
    "    'cluster',\n",
    "    'codetools',\n",
    "    'dbscan',\n",
    "    'factoextra',\n",
    "    'gam',\n",
    "    'ggplot2',\n",
    "    'splines',\n",
    "    'TeachingDemos'\n",
    "]\n",
    "\n",
    "for name in package_list:\n",
    "    r_utils.install_packages(name)"
   ]
  },
  {
   "cell_type": "code",
   "execution_count": null,
   "metadata": {},
   "outputs": [],
   "source": []
  }
 ],
 "metadata": {
  "kernelspec": {
   "display_name": "Python 3",
   "language": "python",
   "name": "python3"
  },
  "language_info": {
   "codemirror_mode": {
    "name": "ipython",
    "version": 3
   },
   "file_extension": ".py",
   "mimetype": "text/x-python",
   "name": "python",
   "nbconvert_exporter": "python",
   "pygments_lexer": "ipython3",
   "version": "3.6.4"
  }
 },
 "nbformat": 4,
 "nbformat_minor": 2
}
